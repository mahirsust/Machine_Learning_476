{
 "cells": [
  {
   "cell_type": "code",
   "execution_count": 19,
   "metadata": {},
   "outputs": [],
   "source": [
    "import numpy as np # linear algebra\n",
    "import pandas as pd # data processing, CSV file I/O (e.g. pd.read_csv)\n",
    "\n",
    "from sklearn.feature_extraction.text import CountVectorizer\n",
    "from keras.preprocessing.text import Tokenizer\n",
    "from keras.preprocessing.sequence import pad_sequences\n",
    "from keras.models import Sequential\n",
    "from keras.layers import Dense, Embedding, LSTM\n",
    "from sklearn.model_selection import train_test_split\n",
    "from keras.utils.np_utils import to_categorical\n",
    "from keras.preprocessing import sequence\n",
    "from keras.layers import Flatten\n",
    "from keras.layers.convolutional import Conv1D\n",
    "from keras.layers.convolutional import MaxPooling1D\n",
    "import re"
   ]
  },
  {
   "cell_type": "code",
   "execution_count": 3,
   "metadata": {},
   "outputs": [
    {
     "data": {
      "text/plain": [
       "array(['Love', 'Like', 'Consciousness', 'Protestant', 'Smiley', 'Angry',\n",
       "       'Blush', 'Skip', 'Rocking', 'Fail', 'Shocking', 'WOW', 'Bad',\n",
       "       'HaHa', 'Sad', 'Skeptical', 'Evil', 'Provocative'], dtype=object)"
      ]
     },
     "execution_count": 3,
     "metadata": {},
     "output_type": "execute_result"
    }
   ],
   "source": [
    "data = pd.read_csv('sentiment_bn.csv', delimiter=\";\")\n",
    "# Keeping only the neccessary columns\n",
    "data = data[['text','sentiment']]\n",
    "data.sentiment.unique()"
   ]
  },
  {
   "cell_type": "code",
   "execution_count": 8,
   "metadata": {},
   "outputs": [
    {
     "name": "stdout",
     "output_type": "stream",
     "text": [
      "2624\n",
      "22198\n"
     ]
    },
    {
     "data": {
      "text/plain": [
       "array([[ 0,  0,  0, ...,  7, 45, 14],\n",
       "       [ 0,  0,  0, ...,  2, 19, 90],\n",
       "       [ 0,  0,  0, ...,  0,  0, 68],\n",
       "       ...,\n",
       "       [ 0,  0,  0, ..., 62, 27, 52],\n",
       "       [ 0,  0,  0, ...,  0, 24,  1],\n",
       "       [ 0,  0,  0, ...,  0, 24,  1]])"
      ]
     },
     "execution_count": 8,
     "metadata": {},
     "output_type": "execute_result"
    }
   ],
   "source": [
    "data = data[data.sentiment != \"Neutral\"]\n",
    "# data['text'] = data.text.apply(lambda x: x.strip)\n",
    "data['sentiment'] = data['sentiment'].apply((lambda x: re.sub('[^a-zA-z\\s]','',x)))\n",
    "# print(data['sentiment'])\n",
    "data.sentiment.unique()\n",
    "print(data[ data['sentiment'] == 'Love'].size)\n",
    "print(data[ data['sentiment'] == 'Like'].size)\n",
    "    \n",
    "max_fatures = 100\n",
    "tokenizer = Tokenizer(num_words=max_fatures, split=' ')\n",
    "tokenizer.fit_on_texts(data['text'].values)\n",
    "X = tokenizer.texts_to_sequences(data['text'].values)\n",
    "X = pad_sequences(X)\n",
    "X"
   ]
  },
  {
   "cell_type": "code",
   "execution_count": 14,
   "metadata": {},
   "outputs": [
    {
     "name": "stdout",
     "output_type": "stream",
     "text": [
      "(18579, 143) (18579, 18)\n",
      "(9152, 143) (9152, 18)\n",
      "Review length: \n",
      "Mean 143.00 words (0.000000)\n"
     ]
    }
   ],
   "source": [
    "Y = pd.get_dummies(data['sentiment']).values\n",
    "X_train, X_test, Y_train, Y_test = train_test_split(X,Y, test_size = 0.33, random_state = 42)\n",
    "print(X_train.shape,Y_train.shape)\n",
    "print(X_test.shape,Y_test.shape)\n",
    "X_train = sequence.pad_sequences(X_train, maxlen=200)\n",
    "X_test = sequence.pad_sequences(X_test, maxlen=200)\n",
    "print(\"Review length: \")\n",
    "result = [len(x) for x in X]\n",
    "print(\"Mean %.2f words (%f)\" % (np.mean(result), np.std(result)))"
   ]
  },
  {
   "cell_type": "code",
   "execution_count": null,
   "metadata": {},
   "outputs": [
    {
     "name": "stdout",
     "output_type": "stream",
     "text": [
      "Epoch 1/7\n"
     ]
    }
   ],
   "source": [
    "batch_size = 32\n",
    "model.fit(X_train, Y_train, epochs = 7, batch_size=batch_size, verbose = 2)"
   ]
  },
  {
   "cell_type": "code",
   "execution_count": 27,
   "metadata": {},
   "outputs": [
    {
     "name": "stdout",
     "output_type": "stream",
     "text": [
      "_________________________________________________________________\n",
      "Layer (type)                 Output Shape              Param #   \n",
      "=================================================================\n",
      "embedding_6 (Embedding)      (None, 200, 32)           6400      \n",
      "_________________________________________________________________\n",
      "conv1d_4 (Conv1D)            (None, 200, 32)           3104      \n",
      "_________________________________________________________________\n",
      "max_pooling1d_4 (MaxPooling1 (None, 100, 32)           0         \n",
      "_________________________________________________________________\n",
      "flatten_4 (Flatten)          (None, 3200)              0         \n",
      "_________________________________________________________________\n",
      "dense_8 (Dense)              (None, 250)               800250    \n",
      "_________________________________________________________________\n",
      "dense_9 (Dense)              (None, 18)                4518      \n",
      "=================================================================\n",
      "Total params: 814,272\n",
      "Trainable params: 814,272\n",
      "Non-trainable params: 0\n",
      "_________________________________________________________________\n",
      "None\n"
     ]
    }
   ],
   "source": [
    "seed = 7\n",
    "np.random.seed(seed)\n",
    "model = Sequential()\n",
    "model.add(Embedding(200, 32, input_length=200))\n",
    "model.add(Conv1D(filters=32, kernel_size=3, padding='same', activation='relu'))\n",
    "model.add(MaxPooling1D(pool_size=2))\n",
    "model.add(Flatten())\n",
    "model.add(Dense(250, activation='relu'))\n",
    "model.add(Dense(18, activation='sigmoid'))\n",
    "model.compile(loss='binary_crossentropy', optimizer='adam', metrics=['accuracy'])\n",
    "print(model.summary())"
   ]
  },
  {
   "cell_type": "code",
   "execution_count": 32,
   "metadata": {},
   "outputs": [
    {
     "name": "stdout",
     "output_type": "stream",
     "text": [
      "Train on 18579 samples, validate on 7152 samples\n",
      "Epoch 1/10\n",
      " - 28s - loss: 0.1536 - acc: 0.9485 - val_loss: 0.1824 - val_acc: 0.9434\n",
      "Epoch 2/10\n",
      " - 28s - loss: 0.1530 - acc: 0.9487 - val_loss: 0.1828 - val_acc: 0.9439\n",
      "Epoch 3/10\n",
      " - 28s - loss: 0.1522 - acc: 0.9488 - val_loss: 0.1832 - val_acc: 0.9435\n",
      "Epoch 4/10\n",
      " - 28s - loss: 0.1516 - acc: 0.9491 - val_loss: 0.1839 - val_acc: 0.9434\n",
      "Epoch 5/10\n",
      " - 28s - loss: 0.1511 - acc: 0.9491 - val_loss: 0.1844 - val_acc: 0.9435\n",
      "Epoch 6/10\n",
      " - 28s - loss: 0.1507 - acc: 0.9491 - val_loss: 0.1846 - val_acc: 0.9434\n",
      "Epoch 7/10\n",
      " - 28s - loss: 0.1500 - acc: 0.9493 - val_loss: 0.1854 - val_acc: 0.9438\n",
      "Epoch 8/10\n",
      " - 30s - loss: 0.1496 - acc: 0.9492 - val_loss: 0.1857 - val_acc: 0.9426\n",
      "Epoch 9/10\n",
      " - 29s - loss: 0.1490 - acc: 0.9495 - val_loss: 0.1870 - val_acc: 0.9425\n",
      "Epoch 10/10\n",
      " - 29s - loss: 0.1488 - acc: 0.9495 - val_loss: 0.1883 - val_acc: 0.9436\n",
      "score: 0.19\n",
      "acc: 0.94\n",
      "Accuracy: 94.38%\n"
     ]
    }
   ],
   "source": [
    "model.fit(X_train, Y_train, validation_data=(X_test, Y_test), epochs=10, batch_size=128, verbose=2)\n",
    "# Final evaluation of the model\n",
    "validation_size = 2000\n",
    "\n",
    "X_validate = X_test[-validation_size:]\n",
    "Y_validate = Y_test[-validation_size:]\n",
    "X_test = X_test[:-validation_size]\n",
    "Y_test = Y_test[:-validation_size]\n",
    "score,acc = model.evaluate(X_test, Y_test, verbose = 2, batch_size =128)\n",
    "print(\"score: %.2f\" % (score))\n",
    "print(\"acc: %.2f\" % (acc))\n",
    "\n",
    "scores = model.evaluate(X_test, Y_test, verbose=0)\n",
    "print(\"Accuracy: %.2f%%\" % (scores[1]*100))"
   ]
  }
 ],
 "metadata": {
  "kernelspec": {
   "display_name": "Python 3",
   "language": "python",
   "name": "python3"
  },
  "language_info": {
   "codemirror_mode": {
    "name": "ipython",
    "version": 3
   },
   "file_extension": ".py",
   "mimetype": "text/x-python",
   "name": "python",
   "nbconvert_exporter": "python",
   "pygments_lexer": "ipython3",
   "version": "3.5.4"
  }
 },
 "nbformat": 4,
 "nbformat_minor": 2
}
